{
 "cells": [
  {
   "cell_type": "markdown",
   "id": "4d98edd2",
   "metadata": {},
   "source": [
    "# Import Required Liabrary\n"
   ]
  },
  {
   "cell_type": "code",
   "execution_count": 9,
   "id": "dae544e7",
   "metadata": {},
   "outputs": [],
   "source": [
    "import flask\n",
    "import pickle\n",
    "import pandas as pd\n",
    "import numpy as np\n",
    "from sklearn.model_selection import train_test_split\n",
    "from sklearn.ensemble import RandomForestClassifier\n"
   ]
  },
  {
   "cell_type": "markdown",
   "id": "0c21f130",
   "metadata": {},
   "source": [
    "# Working on Cleaned  and sorted data set "
   ]
  },
  {
   "cell_type": "code",
   "execution_count": 12,
   "id": "6a4de3fe",
   "metadata": {},
   "outputs": [],
   "source": [
    "df = pd.read_csv(r\"D:\\Airline\\dataset\\final_data.csv\")\n",
    "df['satisfaction'] = df['satisfaction'].map({0:'Not Satisfied or Neutral',1:'Satisfied'})"
   ]
  },
  {
   "cell_type": "code",
   "execution_count": 13,
   "id": "4b9475d0",
   "metadata": {},
   "outputs": [],
   "source": [
    "df.drop(columns='Unnamed: 0',inplace=True)"
   ]
  },
  {
   "cell_type": "code",
   "execution_count": 14,
   "id": "dfadb0ea",
   "metadata": {},
   "outputs": [],
   "source": [
    "x = df.iloc[:,:-1]\n",
    "y = df.iloc[:,-1]"
   ]
  },
  {
   "cell_type": "code",
   "execution_count": 15,
   "id": "3dc62eca",
   "metadata": {},
   "outputs": [],
   "source": [
    "x_train,x_test,y_train,y_test = train_test_split(x,y)"
   ]
  },
  {
   "cell_type": "markdown",
   "id": "ab20cd8d",
   "metadata": {},
   "source": [
    "# I Got Good Accuracy Score for Randaom Forest"
   ]
  },
  {
   "cell_type": "code",
   "execution_count": 7,
   "id": "06bca534",
   "metadata": {},
   "outputs": [
    {
     "data": {
      "text/plain": [
       "0.9212734832152757"
      ]
     },
     "execution_count": 7,
     "metadata": {},
     "output_type": "execute_result"
    }
   ],
   "source": [
    "rf = RandomForestClassifier()\n",
    "rf.fit(x_train,y_train)\n",
    "rf.score(x_test,y_test)"
   ]
  },
  {
   "cell_type": "code",
   "execution_count": 8,
   "id": "d8dae16b",
   "metadata": {},
   "outputs": [],
   "source": [
    "pickle.dump(rf,open('airline_pick.sav','wb'))"
   ]
  },
  {
   "cell_type": "code",
   "execution_count": 9,
   "id": "081f7f6f",
   "metadata": {},
   "outputs": [],
   "source": [
    "model = pickle.load(open('airline_pick.sav','rb'))"
   ]
  },
  {
   "cell_type": "code",
   "execution_count": 10,
   "id": "e20de705",
   "metadata": {},
   "outputs": [],
   "source": [
    "sample  = x_test.sample().values"
   ]
  },
  {
   "cell_type": "code",
   "execution_count": 11,
   "id": "3d7ce3ff",
   "metadata": {},
   "outputs": [
    {
     "data": {
      "text/plain": [
       "array([[ 5.        ,  5.        ,  5.        ,  5.        ,  8.23164218,\n",
       "         5.        ,  0.        , 56.        ,  4.        ,  0.        ,\n",
       "         4.        ]])"
      ]
     },
     "execution_count": 11,
     "metadata": {},
     "output_type": "execute_result"
    }
   ],
   "source": [
    "sample"
   ]
  },
  {
   "cell_type": "code",
   "execution_count": 1,
   "id": "611add4f",
   "metadata": {},
   "outputs": [
    {
     "ename": "NameError",
     "evalue": "name 'x_test' is not defined",
     "output_type": "error",
     "traceback": [
      "\u001b[1;31m---------------------------------------------------------------------------\u001b[0m",
      "\u001b[1;31mNameError\u001b[0m                                 Traceback (most recent call last)",
      "\u001b[1;32m~\\AppData\\Local\\Temp\\ipykernel_9592\\1344758375.py\u001b[0m in \u001b[0;36m<module>\u001b[1;34m\u001b[0m\n\u001b[0;32m      1\u001b[0m \u001b[1;31m# model.predict(sample)\u001b[0m\u001b[1;33m\u001b[0m\u001b[1;33m\u001b[0m\u001b[0m\n\u001b[1;32m----> 2\u001b[1;33m \u001b[0mx_test\u001b[0m\u001b[1;33m\u001b[0m\u001b[1;33m\u001b[0m\u001b[0m\n\u001b[0m",
      "\u001b[1;31mNameError\u001b[0m: name 'x_test' is not defined"
     ]
    }
   ],
   "source": [
    "# model.predict(sample)\n"
   ]
  },
  {
   "cell_type": "code",
   "execution_count": 13,
   "id": "1b66b36e",
   "metadata": {},
   "outputs": [
    {
     "data": {
      "text/plain": [
       "Baggage handling            int64\n",
       "Checkin service             int64\n",
       "Inflight entertainment      int64\n",
       "On-board service            int64\n",
       "Flight Distance           float64\n",
       "Leg room service            int64\n",
       "Type of Travel              int64\n",
       "Age                         int64\n",
       "Ease of Online booking      int64\n",
       "Class                       int64\n",
       "Online boarding             int64\n",
       "dtype: object"
      ]
     },
     "execution_count": 13,
     "metadata": {},
     "output_type": "execute_result"
    }
   ],
   "source": []
  },
  {
   "cell_type": "code",
   "execution_count": null,
   "id": "cae6550c",
   "metadata": {},
   "outputs": [
    {
     "name": "stdout",
     "output_type": "stream",
     "text": [
      " * Serving Flask app \"__main__\" (lazy loading)\n",
      " * Environment: production\n",
      "\u001b[31m   WARNING: This is a development server. Do not use it in a production deployment.\u001b[0m\n",
      "\u001b[2m   Use a production WSGI server instead.\u001b[0m\n",
      " * Debug mode: off\n"
     ]
    },
    {
     "name": "stderr",
     "output_type": "stream",
     "text": [
      " * Running on all addresses.\n",
      "   WARNING: This is a development server. Do not use it in a production deployment.\n",
      " * Running on http://192.168.47.121:8080/ (Press CTRL+C to quit)\n",
      "192.168.47.121 - - [28/Sep/2023 18:35:00] \"GET / HTTP/1.1\" 200 -\n",
      "C:\\Users\\asus\\anaconda3\\lib\\site-packages\\sklearn\\base.py:450: UserWarning: X does not have valid feature names, but RandomForestClassifier was fitted with feature names\n",
      "  warnings.warn(\n",
      "192.168.47.121 - - [28/Sep/2023 18:35:42] \"POST /predict HTTP/1.1\" 200 -\n"
     ]
    }
   ],
   "source": [
    "from flask import Flask, render_template, request\n",
    "import pickle\n",
    "import templates\n",
    "\n",
    "app = Flask(__name__)\n",
    "model = pickle.load(open('airline_pick.sav', 'rb'))\n",
    "\n",
    "\n",
    "@app.route('/')\n",
    "def home():\n",
    "    result = ''\n",
    "    return render_template('Air_index.html', **locals())\n",
    "\n",
    "\n",
    "@app.route('/predict', methods=['POST', 'GET'])\n",
    "def predict():\n",
    "    Baggage_handling = float(request.form['Baggage_handling'])\n",
    "    Checkin_service = float(request.form['Checkin_service'])\n",
    "    Inflight_entertainment = float(request.form['Inflight_entertainment'])\n",
    "    On_board_service = float(request.form['On_board_service'])\n",
    "    Flight_Distance = float(request.form['Flight_Distance'])\n",
    "    Leg_room_service = float(request.form['Leg_room_service'])\n",
    "    Type_of_Travel = float(request.form['Type_of_Travel'])\n",
    "    Age = float(request.form['Age'])\n",
    "    Ease_of_Online_booking = float(request.form['Ease_of_Online_booking'])\n",
    "    Class = float(request.form['Class'])\n",
    "    Online_boarding = float(request.form['Online_boarding'])\n",
    "\n",
    "\n",
    "    result = model.predict([[Baggage_handling, Checkin_service, Inflight_entertainment, On_board_service,\n",
    "                             Flight_Distance, Leg_room_service, Type_of_Travel, Age, Ease_of_Online_booking,\n",
    "                             Class,Online_boarding]])[0]\n",
    "\n",
    "    return render_template('Air_index.html', **locals())\n",
    "\n",
    "\n",
    "if __name__ == '__main__':\n",
    "    app.run(host='0.0.0.0', port=8080)"
   ]
  }
 ],
 "metadata": {
  "kernelspec": {
   "display_name": "Python 3 (ipykernel)",
   "language": "python",
   "name": "python3"
  },
  "language_info": {
   "codemirror_mode": {
    "name": "ipython",
    "version": 3
   },
   "file_extension": ".py",
   "mimetype": "text/x-python",
   "name": "python",
   "nbconvert_exporter": "python",
   "pygments_lexer": "ipython3",
   "version": "3.9.13"
  }
 },
 "nbformat": 4,
 "nbformat_minor": 5
}
