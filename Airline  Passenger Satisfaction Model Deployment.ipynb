{
 "cells": [
  {
   "cell_type": "markdown",
   "id": "4d98edd2",
   "metadata": {},
   "source": [
    "# Import Required Liabrary\n"
   ]
  },
  {
   "cell_type": "code",
   "execution_count": 9,
   "id": "dae544e7",
   "metadata": {},
   "outputs": [],
   "source": [
    "import flask\n",
    "import pickle\n",
    "import pandas as pd\n",
    "import numpy as np\n",
    "from sklearn.model_selection import train_test_split\n",
    "from sklearn.ensemble import RandomForestClassifier\n"
   ]
  },
  {
   "cell_type": "markdown",
   "id": "0c21f130",
   "metadata": {},
   "source": [
    "# Working on Cleaned  and sorted data set "
   ]
  },
  {
   "cell_type": "code",
   "execution_count": 12,
   "id": "6a4de3fe",
   "metadata": {},
   "outputs": [],
   "source": [
    "df = pd.read_csv(r\"D:\\Airline\\dataset\\final_data.csv\")\n",
    "df['satisfaction'] = df['satisfaction'].map({0:'Not Satisfied or Neutral',1:'Satisfied'})"
   ]
  },
  {
   "cell_type": "code",
   "execution_count": 13,
   "id": "4b9475d0",
   "metadata": {},
   "outputs": [],
   "source": [
    "df.drop(columns='Unnamed: 0',inplace=True)"
   ]
  },
  {
   "cell_type": "code",
   "execution_count": 14,
   "id": "dfadb0ea",
   "metadata": {},
   "outputs": [],
   "source": [
    "x = df.iloc[:,:-1]\n",
    "y = df.iloc[:,-1]"
   ]
  },
  {
   "cell_type": "code",
   "execution_count": 15,
   "id": "3dc62eca",
   "metadata": {},
   "outputs": [],
   "source": [
    "x_train,x_test,y_train,y_test = train_test_split(x,y)"
   ]
  },
  {
   "cell_type": "markdown",
   "id": "ab20cd8d",
   "metadata": {},
   "source": [
    "# I Got Good Accuracy Score for Randaom Forest"
   ]
  },
  {
   "cell_type": "code",
   "execution_count": 7,
   "id": "06bca534",
   "metadata": {},
   "outputs": [
    {
     "data": {
      "text/plain": [
       "0.9212734832152757"
      ]
     },
     "execution_count": 7,
     "metadata": {},
     "output_type": "execute_result"
    }
   ],
   "source": [
    "rf = RandomForestClassifier()\n",
    "rf.fit(x_train,y_train)\n",
    "rf.score(x_test,y_test)"
   ]
  },
  {
   "cell_type": "code",
   "execution_count": 8,
   "id": "d8dae16b",
   "metadata": {},
   "outputs": [],
   "source": [
    "pickle.dump(rf,open('airline_pick.sav','wb'))"
   ]
  },
  {
   "cell_type": "code",
   "execution_count": 9,
   "id": "081f7f6f",
   "metadata": {},
   "outputs": [],
   "source": [
    "model = pickle.load(open('airline_pick.sav','rb'))"
   ]
  },
  {
   "cell_type": "code",
   "execution_count": 10,
   "id": "e20de705",
   "metadata": {},
   "outputs": [],
   "source": [
    "sample  = x_test.sample().values"
   ]
  },
  {
   "cell_type": "code",
   "execution_count": 11,
   "id": "3d7ce3ff",
   "metadata": {},
   "outputs": [
    {
     "data": {
      "text/plain": [
       "array([[ 5.        ,  5.        ,  5.        ,  5.        ,  8.23164218,\n",
       "         5.        ,  0.        , 56.        ,  4.        ,  0.        ,\n",
       "         4.        ]])"
      ]
     },
     "execution_count": 11,
     "metadata": {},
     "output_type": "execute_result"
    }
   ],
   "source": [
    "sample"
   ]
  },
  {
   "cell_type": "code",
   "execution_count": 1,
   "id": "611add4f",
   "metadata": {},
   "outputs": [
    {
     "ename": "NameError",
     "evalue": "name 'x_test' is not defined",
     "output_type": "error",
     "traceback": [
      "\u001b[1;31m---------------------------------------------------------------------------\u001b[0m",
      "\u001b[1;31mNameError\u001b[0m                                 Traceback (most recent call last)",
      "\u001b[1;32m~\\AppData\\Local\\Temp\\ipykernel_9592\\1344758375.py\u001b[0m in \u001b[0;36m<module>\u001b[1;34m\u001b[0m\n\u001b[0;32m      1\u001b[0m \u001b[1;31m# model.predict(sample)\u001b[0m\u001b[1;33m\u001b[0m\u001b[1;33m\u001b[0m\u001b[0m\n\u001b[1;32m----> 2\u001b[1;33m \u001b[0mx_test\u001b[0m\u001b[1;33m\u001b[0m\u001b[1;33m\u001b[0m\u001b[0m\n\u001b[0m",
      "\u001b[1;31mNameError\u001b[0m: name 'x_test' is not defined"
     ]
    }
   ],
   "source": [
    "# model.predict(sample)\n"
   ]
  },
  {
   "cell_type": "code",
   "execution_count": 13,
   "id": "1b66b36e",
   "metadata": {},
   "outputs": [
    {
     "data": {
      "text/plain": [
       "Baggage handling            int64\n",
       "Checkin service             int64\n",
       "Inflight entertainment      int64\n",
       "On-board service            int64\n",
       "Flight Distance           float64\n",
       "Leg room service            int64\n",
       "Type of Travel              int64\n",
       "Age                         int64\n",
       "Ease of Online booking      int64\n",
       "Class                       int64\n",
       "Online boarding             int64\n",
       "dtype: object"
      ]
     },
     "execution_count": 13,
     "metadata": {},
     "output_type": "execute_result"
    }
   ],
   "source": []
  },
  {
   "cell_type": "code",
   "execution_count": null,
   "id": "cae6550c",
   "metadata": {},
   "outputs": [
    {
     "name": "stdout",
     "output_type": "stream",
     "text": [
      " * Serving Flask app \"__main__\" (lazy loading)\n",
      " * Environment: production\n",
      "\u001b[31m   WARNING: This is a development server. Do not use it in a production deployment.\u001b[0m\n",
      "\u001b[2m   Use a production WSGI server instead.\u001b[0m\n",
      " * Debug mode: off\n"
     ]
    },
    {
     "name": "stderr",
     "output_type": "stream",
     "text": [
      " * Running on all addresses.\n",
      "   WARNING: This is a development server. Do not use it in a production deployment.\n",
      " * Running on http://192.168.47.121:8080/ (Press CTRL+C to quit)\n",
      "192.168.47.121 - - [28/Sep/2023 18:35:00] \"GET / HTTP/1.1\" 200 -\n",
      "C:\\Users\\asus\\anaconda3\\lib\\site-packages\\sklearn\\base.py:450: UserWarning: X does not have valid feature names, but RandomForestClassifier was fitted with feature names\n",
      "  warnings.warn(\n",
      "192.168.47.121 - - [28/Sep/2023 18:35:42] \"POST /predict HTTP/1.1\" 200 -\n"
     ]
    }
   ],
   "source": [
    "from flask import Flask, render_template, request\n",
    "import pickle\n",
    "import templates\n",
    "\n",
    "app = Flask(__name__)\n",
    "model = pickle.load(open('airline_pick.sav', 'rb'))\n",
    "\n",
    "\n",
    "@app.route('/')\n",
    "def home():\n",
    "    result = ''\n",
    "    return render_template('Air_index.html', **locals())\n",
    "\n",
    "\n",
    "@app.route('/predict', methods=['POST', 'GET'])\n",
    "def predict():\n",
    "    Baggage_handling = float(request.form['Baggage_handling'])\n",
    "    Checkin_service = float(request.form['Checkin_service'])\n",
    "    Inflight_entertainment = float(request.form['Inflight_entertainment'])\n",
    "    On_board_service = float(request.form['On_board_service'])\n",
    "    Flight_Distance = float(request.form['Flight_Distance'])\n",
    "    Leg_room_service = float(request.form['Leg_room_service'])\n",
    "    Type_of_Travel = float(request.form['Type_of_Travel'])\n",
    "    Age = float(request.form['Age'])\n",
    "    Ease_of_Online_booking = float(request.form['Ease_of_Online_booking'])\n",
    "    Class = float(request.form['Class'])\n",
    "    Online_boarding = float(request.form['Online_boarding'])\n",
    "\n",
    "\n",
    "    result = model.predict([[Baggage_handling, Checkin_service, Inflight_entertainment, On_board_service,\n",
    "                             Flight_Distance, Leg_room_service, Type_of_Travel, Age, Ease_of_Online_booking,\n",
    "                             Class,Online_boarding]])[0]\n",
    "\n",
    "    return render_template('Air_index.html', **locals())\n",
    "\n",
    "\n",
    "if __name__ == '__main__':\n",
    "    app.run(host='0.0.0.0', port=8080)"
   ]
  },
  {
   "cell_type": "code",
   "execution_count": 11,
   "id": "462efedc",
   "metadata": {},
   "outputs": [
    {
     "ename": "NameError",
     "evalue": "name 'x' is not defined",
     "output_type": "error",
     "traceback": [
      "\u001b[1;31m---------------------------------------------------------------------------\u001b[0m",
      "\u001b[1;31mNameError\u001b[0m                                 Traceback (most recent call last)",
      "\u001b[1;32m~\\AppData\\Local\\Temp\\ipykernel_9592\\32546335.py\u001b[0m in \u001b[0;36m<module>\u001b[1;34m\u001b[0m\n\u001b[1;32m----> 1\u001b[1;33m \u001b[0mx\u001b[0m\u001b[1;33m\u001b[0m\u001b[1;33m\u001b[0m\u001b[0m\n\u001b[0m",
      "\u001b[1;31mNameError\u001b[0m: name 'x' is not defined"
     ]
    }
   ],
   "source": [
    "x"
   ]
  },
  {
   "cell_type": "code",
   "execution_count": 20,
   "id": "380bd117",
   "metadata": {},
   "outputs": [
    {
     "data": {
      "text/plain": [
       "11"
      ]
     },
     "execution_count": 20,
     "metadata": {},
     "output_type": "execute_result"
    }
   ],
   "source": [
    "len(model.feature_names_in_)"
   ]
  },
  {
   "cell_type": "code",
   "execution_count": 19,
   "id": "3eb475d8",
   "metadata": {},
   "outputs": [
    {
     "data": {
      "text/plain": [
       "11"
      ]
     },
     "execution_count": 19,
     "metadata": {},
     "output_type": "execute_result"
    }
   ],
   "source": [
    "len(x_test.columns)"
   ]
  },
  {
   "cell_type": "code",
   "execution_count": 21,
   "id": "8d764415",
   "metadata": {},
   "outputs": [
    {
     "data": {
      "text/plain": [
       "array(['Baggage handling', 'Checkin service', 'Inflight entertainment',\n",
       "       'On-board service', 'Flight Distance', 'Leg room service',\n",
       "       'Type of Travel', 'Age', 'Ease of Online booking', 'Class',\n",
       "       'Online boarding'], dtype=object)"
      ]
     },
     "execution_count": 21,
     "metadata": {},
     "output_type": "execute_result"
    }
   ],
   "source": [
    "model.feature_names_in_"
   ]
  },
  {
   "cell_type": "code",
   "execution_count": 28,
   "id": "2de19b8b",
   "metadata": {},
   "outputs": [
    {
     "data": {
      "text/plain": [
       "Baggage handling                      5\n",
       "Checkin service                       4\n",
       "Inflight entertainment                1\n",
       "On-board service                      2\n",
       "Flight Distance                7.813996\n",
       "Leg room service                      1\n",
       "Type of Travel                        1\n",
       "Age                                  70\n",
       "Ease of Online booking                4\n",
       "Class                                 1\n",
       "Online boarding                       4\n",
       "satisfaction              not satisfied\n",
       "Name: 69107, dtype: object"
      ]
     },
     "execution_count": 28,
     "metadata": {},
     "output_type": "execute_result"
    }
   ],
   "source": [
    "df.iloc[69107]"
   ]
  },
  {
   "cell_type": "code",
   "execution_count": 5,
   "id": "9a220ea1",
   "metadata": {},
   "outputs": [
    {
     "data": {
      "text/html": [
       "<div>\n",
       "<style scoped>\n",
       "    .dataframe tbody tr th:only-of-type {\n",
       "        vertical-align: middle;\n",
       "    }\n",
       "\n",
       "    .dataframe tbody tr th {\n",
       "        vertical-align: top;\n",
       "    }\n",
       "\n",
       "    .dataframe thead th {\n",
       "        text-align: right;\n",
       "    }\n",
       "</style>\n",
       "<table border=\"1\" class=\"dataframe\">\n",
       "  <thead>\n",
       "    <tr style=\"text-align: right;\">\n",
       "      <th></th>\n",
       "      <th>Unnamed: 0</th>\n",
       "      <th>Baggage handling</th>\n",
       "      <th>Checkin service</th>\n",
       "      <th>Inflight entertainment</th>\n",
       "      <th>On-board service</th>\n",
       "      <th>Flight Distance</th>\n",
       "      <th>Leg room service</th>\n",
       "      <th>Type of Travel</th>\n",
       "      <th>Age</th>\n",
       "      <th>Ease of Online booking</th>\n",
       "      <th>Class</th>\n",
       "      <th>Online boarding</th>\n",
       "      <th>satisfaction</th>\n",
       "    </tr>\n",
       "  </thead>\n",
       "  <tbody>\n",
       "    <tr>\n",
       "      <th>0</th>\n",
       "      <td>0</td>\n",
       "      <td>4</td>\n",
       "      <td>4</td>\n",
       "      <td>5</td>\n",
       "      <td>4</td>\n",
       "      <td>6.131226</td>\n",
       "      <td>3</td>\n",
       "      <td>1</td>\n",
       "      <td>13</td>\n",
       "      <td>3</td>\n",
       "      <td>2</td>\n",
       "      <td>3</td>\n",
       "      <td>Not Satisfied or Neutral</td>\n",
       "    </tr>\n",
       "    <tr>\n",
       "      <th>1</th>\n",
       "      <td>1</td>\n",
       "      <td>3</td>\n",
       "      <td>1</td>\n",
       "      <td>1</td>\n",
       "      <td>1</td>\n",
       "      <td>5.459586</td>\n",
       "      <td>5</td>\n",
       "      <td>0</td>\n",
       "      <td>25</td>\n",
       "      <td>3</td>\n",
       "      <td>0</td>\n",
       "      <td>3</td>\n",
       "      <td>Not Satisfied or Neutral</td>\n",
       "    </tr>\n",
       "    <tr>\n",
       "      <th>2</th>\n",
       "      <td>2</td>\n",
       "      <td>4</td>\n",
       "      <td>4</td>\n",
       "      <td>5</td>\n",
       "      <td>4</td>\n",
       "      <td>7.040536</td>\n",
       "      <td>3</td>\n",
       "      <td>0</td>\n",
       "      <td>26</td>\n",
       "      <td>2</td>\n",
       "      <td>0</td>\n",
       "      <td>5</td>\n",
       "      <td>Satisfied</td>\n",
       "    </tr>\n",
       "    <tr>\n",
       "      <th>3</th>\n",
       "      <td>3</td>\n",
       "      <td>3</td>\n",
       "      <td>1</td>\n",
       "      <td>2</td>\n",
       "      <td>2</td>\n",
       "      <td>6.331502</td>\n",
       "      <td>5</td>\n",
       "      <td>0</td>\n",
       "      <td>25</td>\n",
       "      <td>5</td>\n",
       "      <td>0</td>\n",
       "      <td>2</td>\n",
       "      <td>Not Satisfied or Neutral</td>\n",
       "    </tr>\n",
       "    <tr>\n",
       "      <th>4</th>\n",
       "      <td>4</td>\n",
       "      <td>4</td>\n",
       "      <td>3</td>\n",
       "      <td>3</td>\n",
       "      <td>3</td>\n",
       "      <td>5.365976</td>\n",
       "      <td>4</td>\n",
       "      <td>0</td>\n",
       "      <td>61</td>\n",
       "      <td>3</td>\n",
       "      <td>0</td>\n",
       "      <td>5</td>\n",
       "      <td>Satisfied</td>\n",
       "    </tr>\n",
       "    <tr>\n",
       "      <th>...</th>\n",
       "      <td>...</td>\n",
       "      <td>...</td>\n",
       "      <td>...</td>\n",
       "      <td>...</td>\n",
       "      <td>...</td>\n",
       "      <td>...</td>\n",
       "      <td>...</td>\n",
       "      <td>...</td>\n",
       "      <td>...</td>\n",
       "      <td>...</td>\n",
       "      <td>...</td>\n",
       "      <td>...</td>\n",
       "      <td>...</td>\n",
       "    </tr>\n",
       "    <tr>\n",
       "      <th>103899</th>\n",
       "      <td>103899</td>\n",
       "      <td>4</td>\n",
       "      <td>2</td>\n",
       "      <td>2</td>\n",
       "      <td>3</td>\n",
       "      <td>5.257495</td>\n",
       "      <td>1</td>\n",
       "      <td>0</td>\n",
       "      <td>23</td>\n",
       "      <td>2</td>\n",
       "      <td>1</td>\n",
       "      <td>2</td>\n",
       "      <td>Not Satisfied or Neutral</td>\n",
       "    </tr>\n",
       "    <tr>\n",
       "      <th>103900</th>\n",
       "      <td>103900</td>\n",
       "      <td>5</td>\n",
       "      <td>5</td>\n",
       "      <td>5</td>\n",
       "      <td>5</td>\n",
       "      <td>7.760893</td>\n",
       "      <td>5</td>\n",
       "      <td>0</td>\n",
       "      <td>49</td>\n",
       "      <td>4</td>\n",
       "      <td>0</td>\n",
       "      <td>4</td>\n",
       "      <td>Satisfied</td>\n",
       "    </tr>\n",
       "    <tr>\n",
       "      <th>103901</th>\n",
       "      <td>103901</td>\n",
       "      <td>4</td>\n",
       "      <td>5</td>\n",
       "      <td>4</td>\n",
       "      <td>3</td>\n",
       "      <td>7.598399</td>\n",
       "      <td>2</td>\n",
       "      <td>0</td>\n",
       "      <td>30</td>\n",
       "      <td>1</td>\n",
       "      <td>0</td>\n",
       "      <td>1</td>\n",
       "      <td>Not Satisfied or Neutral</td>\n",
       "    </tr>\n",
       "    <tr>\n",
       "      <th>103902</th>\n",
       "      <td>103902</td>\n",
       "      <td>1</td>\n",
       "      <td>5</td>\n",
       "      <td>1</td>\n",
       "      <td>4</td>\n",
       "      <td>6.907755</td>\n",
       "      <td>5</td>\n",
       "      <td>0</td>\n",
       "      <td>22</td>\n",
       "      <td>1</td>\n",
       "      <td>1</td>\n",
       "      <td>1</td>\n",
       "      <td>Not Satisfied or Neutral</td>\n",
       "    </tr>\n",
       "    <tr>\n",
       "      <th>103903</th>\n",
       "      <td>103903</td>\n",
       "      <td>4</td>\n",
       "      <td>4</td>\n",
       "      <td>1</td>\n",
       "      <td>1</td>\n",
       "      <td>7.451822</td>\n",
       "      <td>1</td>\n",
       "      <td>0</td>\n",
       "      <td>27</td>\n",
       "      <td>3</td>\n",
       "      <td>0</td>\n",
       "      <td>1</td>\n",
       "      <td>Not Satisfied or Neutral</td>\n",
       "    </tr>\n",
       "  </tbody>\n",
       "</table>\n",
       "<p>103904 rows × 13 columns</p>\n",
       "</div>"
      ],
      "text/plain": [
       "        Unnamed: 0  Baggage handling  Checkin service  Inflight entertainment  \\\n",
       "0                0                 4                4                       5   \n",
       "1                1                 3                1                       1   \n",
       "2                2                 4                4                       5   \n",
       "3                3                 3                1                       2   \n",
       "4                4                 4                3                       3   \n",
       "...            ...               ...              ...                     ...   \n",
       "103899      103899                 4                2                       2   \n",
       "103900      103900                 5                5                       5   \n",
       "103901      103901                 4                5                       4   \n",
       "103902      103902                 1                5                       1   \n",
       "103903      103903                 4                4                       1   \n",
       "\n",
       "        On-board service  Flight Distance  Leg room service  Type of Travel  \\\n",
       "0                      4         6.131226                 3               1   \n",
       "1                      1         5.459586                 5               0   \n",
       "2                      4         7.040536                 3               0   \n",
       "3                      2         6.331502                 5               0   \n",
       "4                      3         5.365976                 4               0   \n",
       "...                  ...              ...               ...             ...   \n",
       "103899                 3         5.257495                 1               0   \n",
       "103900                 5         7.760893                 5               0   \n",
       "103901                 3         7.598399                 2               0   \n",
       "103902                 4         6.907755                 5               0   \n",
       "103903                 1         7.451822                 1               0   \n",
       "\n",
       "        Age  Ease of Online booking  Class  Online boarding  \\\n",
       "0        13                       3      2                3   \n",
       "1        25                       3      0                3   \n",
       "2        26                       2      0                5   \n",
       "3        25                       5      0                2   \n",
       "4        61                       3      0                5   \n",
       "...     ...                     ...    ...              ...   \n",
       "103899   23                       2      1                2   \n",
       "103900   49                       4      0                4   \n",
       "103901   30                       1      0                1   \n",
       "103902   22                       1      1                1   \n",
       "103903   27                       3      0                1   \n",
       "\n",
       "                    satisfaction  \n",
       "0       Not Satisfied or Neutral  \n",
       "1       Not Satisfied or Neutral  \n",
       "2                      Satisfied  \n",
       "3       Not Satisfied or Neutral  \n",
       "4                      Satisfied  \n",
       "...                          ...  \n",
       "103899  Not Satisfied or Neutral  \n",
       "103900                 Satisfied  \n",
       "103901  Not Satisfied or Neutral  \n",
       "103902  Not Satisfied or Neutral  \n",
       "103903  Not Satisfied or Neutral  \n",
       "\n",
       "[103904 rows x 13 columns]"
      ]
     },
     "execution_count": 5,
     "metadata": {},
     "output_type": "execute_result"
    }
   ],
   "source": [
    "df"
   ]
  },
  {
   "cell_type": "code",
   "execution_count": 19,
   "id": "ff9d130f",
   "metadata": {},
   "outputs": [
    {
     "data": {
      "text/html": [
       "<div>\n",
       "<style scoped>\n",
       "    .dataframe tbody tr th:only-of-type {\n",
       "        vertical-align: middle;\n",
       "    }\n",
       "\n",
       "    .dataframe tbody tr th {\n",
       "        vertical-align: top;\n",
       "    }\n",
       "\n",
       "    .dataframe thead th {\n",
       "        text-align: right;\n",
       "    }\n",
       "</style>\n",
       "<table border=\"1\" class=\"dataframe\">\n",
       "  <thead>\n",
       "    <tr style=\"text-align: right;\">\n",
       "      <th></th>\n",
       "      <th>Baggage handling</th>\n",
       "      <th>Checkin service</th>\n",
       "      <th>Inflight entertainment</th>\n",
       "      <th>On-board service</th>\n",
       "      <th>Flight Distance</th>\n",
       "      <th>Leg room service</th>\n",
       "      <th>Type of Travel</th>\n",
       "      <th>Age</th>\n",
       "      <th>Ease of Online booking</th>\n",
       "      <th>Class</th>\n",
       "      <th>Online boarding</th>\n",
       "      <th>satisfaction</th>\n",
       "    </tr>\n",
       "  </thead>\n",
       "  <tbody>\n",
       "    <tr>\n",
       "      <th>2</th>\n",
       "      <td>4</td>\n",
       "      <td>4</td>\n",
       "      <td>5</td>\n",
       "      <td>4</td>\n",
       "      <td>7.040536</td>\n",
       "      <td>3</td>\n",
       "      <td>0</td>\n",
       "      <td>26</td>\n",
       "      <td>2</td>\n",
       "      <td>0</td>\n",
       "      <td>5</td>\n",
       "      <td>Satisfied</td>\n",
       "    </tr>\n",
       "    <tr>\n",
       "      <th>4</th>\n",
       "      <td>4</td>\n",
       "      <td>3</td>\n",
       "      <td>3</td>\n",
       "      <td>3</td>\n",
       "      <td>5.365976</td>\n",
       "      <td>4</td>\n",
       "      <td>0</td>\n",
       "      <td>61</td>\n",
       "      <td>3</td>\n",
       "      <td>0</td>\n",
       "      <td>5</td>\n",
       "      <td>Satisfied</td>\n",
       "    </tr>\n",
       "    <tr>\n",
       "      <th>7</th>\n",
       "      <td>5</td>\n",
       "      <td>4</td>\n",
       "      <td>5</td>\n",
       "      <td>5</td>\n",
       "      <td>7.618251</td>\n",
       "      <td>5</td>\n",
       "      <td>0</td>\n",
       "      <td>52</td>\n",
       "      <td>4</td>\n",
       "      <td>0</td>\n",
       "      <td>5</td>\n",
       "      <td>Satisfied</td>\n",
       "    </tr>\n",
       "    <tr>\n",
       "      <th>13</th>\n",
       "      <td>2</td>\n",
       "      <td>2</td>\n",
       "      <td>4</td>\n",
       "      <td>4</td>\n",
       "      <td>6.852243</td>\n",
       "      <td>5</td>\n",
       "      <td>1</td>\n",
       "      <td>33</td>\n",
       "      <td>4</td>\n",
       "      <td>1</td>\n",
       "      <td>4</td>\n",
       "      <td>Satisfied</td>\n",
       "    </tr>\n",
       "    <tr>\n",
       "      <th>16</th>\n",
       "      <td>4</td>\n",
       "      <td>5</td>\n",
       "      <td>4</td>\n",
       "      <td>5</td>\n",
       "      <td>7.660585</td>\n",
       "      <td>3</td>\n",
       "      <td>0</td>\n",
       "      <td>26</td>\n",
       "      <td>3</td>\n",
       "      <td>0</td>\n",
       "      <td>4</td>\n",
       "      <td>Satisfied</td>\n",
       "    </tr>\n",
       "    <tr>\n",
       "      <th>...</th>\n",
       "      <td>...</td>\n",
       "      <td>...</td>\n",
       "      <td>...</td>\n",
       "      <td>...</td>\n",
       "      <td>...</td>\n",
       "      <td>...</td>\n",
       "      <td>...</td>\n",
       "      <td>...</td>\n",
       "      <td>...</td>\n",
       "      <td>...</td>\n",
       "      <td>...</td>\n",
       "      <td>...</td>\n",
       "    </tr>\n",
       "    <tr>\n",
       "      <th>103890</th>\n",
       "      <td>3</td>\n",
       "      <td>4</td>\n",
       "      <td>3</td>\n",
       "      <td>3</td>\n",
       "      <td>6.309918</td>\n",
       "      <td>3</td>\n",
       "      <td>0</td>\n",
       "      <td>56</td>\n",
       "      <td>5</td>\n",
       "      <td>2</td>\n",
       "      <td>5</td>\n",
       "      <td>Satisfied</td>\n",
       "    </tr>\n",
       "    <tr>\n",
       "      <th>103891</th>\n",
       "      <td>4</td>\n",
       "      <td>5</td>\n",
       "      <td>4</td>\n",
       "      <td>4</td>\n",
       "      <td>7.596392</td>\n",
       "      <td>5</td>\n",
       "      <td>0</td>\n",
       "      <td>54</td>\n",
       "      <td>5</td>\n",
       "      <td>0</td>\n",
       "      <td>5</td>\n",
       "      <td>Satisfied</td>\n",
       "    </tr>\n",
       "    <tr>\n",
       "      <th>103894</th>\n",
       "      <td>4</td>\n",
       "      <td>3</td>\n",
       "      <td>5</td>\n",
       "      <td>3</td>\n",
       "      <td>6.568078</td>\n",
       "      <td>4</td>\n",
       "      <td>0</td>\n",
       "      <td>26</td>\n",
       "      <td>4</td>\n",
       "      <td>0</td>\n",
       "      <td>5</td>\n",
       "      <td>Satisfied</td>\n",
       "    </tr>\n",
       "    <tr>\n",
       "      <th>103897</th>\n",
       "      <td>4</td>\n",
       "      <td>4</td>\n",
       "      <td>4</td>\n",
       "      <td>4</td>\n",
       "      <td>7.377134</td>\n",
       "      <td>4</td>\n",
       "      <td>0</td>\n",
       "      <td>60</td>\n",
       "      <td>5</td>\n",
       "      <td>0</td>\n",
       "      <td>5</td>\n",
       "      <td>Satisfied</td>\n",
       "    </tr>\n",
       "    <tr>\n",
       "      <th>103900</th>\n",
       "      <td>5</td>\n",
       "      <td>5</td>\n",
       "      <td>5</td>\n",
       "      <td>5</td>\n",
       "      <td>7.760893</td>\n",
       "      <td>5</td>\n",
       "      <td>0</td>\n",
       "      <td>49</td>\n",
       "      <td>4</td>\n",
       "      <td>0</td>\n",
       "      <td>4</td>\n",
       "      <td>Satisfied</td>\n",
       "    </tr>\n",
       "  </tbody>\n",
       "</table>\n",
       "<p>45025 rows × 12 columns</p>\n",
       "</div>"
      ],
      "text/plain": [
       "        Baggage handling  Checkin service  Inflight entertainment  \\\n",
       "2                      4                4                       5   \n",
       "4                      4                3                       3   \n",
       "7                      5                4                       5   \n",
       "13                     2                2                       4   \n",
       "16                     4                5                       4   \n",
       "...                  ...              ...                     ...   \n",
       "103890                 3                4                       3   \n",
       "103891                 4                5                       4   \n",
       "103894                 4                3                       5   \n",
       "103897                 4                4                       4   \n",
       "103900                 5                5                       5   \n",
       "\n",
       "        On-board service  Flight Distance  Leg room service  Type of Travel  \\\n",
       "2                      4         7.040536                 3               0   \n",
       "4                      3         5.365976                 4               0   \n",
       "7                      5         7.618251                 5               0   \n",
       "13                     4         6.852243                 5               1   \n",
       "16                     5         7.660585                 3               0   \n",
       "...                  ...              ...               ...             ...   \n",
       "103890                 3         6.309918                 3               0   \n",
       "103891                 4         7.596392                 5               0   \n",
       "103894                 3         6.568078                 4               0   \n",
       "103897                 4         7.377134                 4               0   \n",
       "103900                 5         7.760893                 5               0   \n",
       "\n",
       "        Age  Ease of Online booking  Class  Online boarding satisfaction  \n",
       "2        26                       2      0                5    Satisfied  \n",
       "4        61                       3      0                5    Satisfied  \n",
       "7        52                       4      0                5    Satisfied  \n",
       "13       33                       4      1                4    Satisfied  \n",
       "16       26                       3      0                4    Satisfied  \n",
       "...     ...                     ...    ...              ...          ...  \n",
       "103890   56                       5      2                5    Satisfied  \n",
       "103891   54                       5      0                5    Satisfied  \n",
       "103894   26                       4      0                5    Satisfied  \n",
       "103897   60                       5      0                5    Satisfied  \n",
       "103900   49                       4      0                4    Satisfied  \n",
       "\n",
       "[45025 rows x 12 columns]"
      ]
     },
     "execution_count": 19,
     "metadata": {},
     "output_type": "execute_result"
    }
   ],
   "source": [
    "df[df['satisfaction'] == 'Satisfied']"
   ]
  },
  {
   "cell_type": "code",
   "execution_count": null,
   "id": "9f75b344",
   "metadata": {},
   "outputs": [],
   "source": []
  }
 ],
 "metadata": {
  "kernelspec": {
   "display_name": "Python 3 (ipykernel)",
   "language": "python",
   "name": "python3"
  },
  "language_info": {
   "codemirror_mode": {
    "name": "ipython",
    "version": 3
   },
   "file_extension": ".py",
   "mimetype": "text/x-python",
   "name": "python",
   "nbconvert_exporter": "python",
   "pygments_lexer": "ipython3",
   "version": "3.9.13"
  }
 },
 "nbformat": 4,
 "nbformat_minor": 5
}
